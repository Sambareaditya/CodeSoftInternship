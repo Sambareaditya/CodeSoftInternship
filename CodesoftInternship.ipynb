{
  "nbformat": 4,
  "nbformat_minor": 0,
  "metadata": {
    "colab": {
      "provenance": []
    },
    "kernelspec": {
      "name": "python3",
      "display_name": "Python 3"
    },
    "language_info": {
      "name": "python"
    }
  },
  "cells": [
    {
      "cell_type": "code",
      "source": [
        "pip install scikit-learn pandas\n"
      ],
      "metadata": {
        "colab": {
          "base_uri": "https://localhost:8080/"
        },
        "id": "1Tsz0Q-IyPX3",
        "outputId": "5147012b-b0ab-4389-f850-b275d1975d7d"
      },
      "execution_count": 14,
      "outputs": [
        {
          "output_type": "stream",
          "name": "stdout",
          "text": [
            "Requirement already satisfied: scikit-learn in /usr/local/lib/python3.11/dist-packages (1.6.1)\n",
            "Requirement already satisfied: pandas in /usr/local/lib/python3.11/dist-packages (2.2.2)\n",
            "Requirement already satisfied: numpy>=1.19.5 in /usr/local/lib/python3.11/dist-packages (from scikit-learn) (2.0.2)\n",
            "Requirement already satisfied: scipy>=1.6.0 in /usr/local/lib/python3.11/dist-packages (from scikit-learn) (1.14.1)\n",
            "Requirement already satisfied: joblib>=1.2.0 in /usr/local/lib/python3.11/dist-packages (from scikit-learn) (1.4.2)\n",
            "Requirement already satisfied: threadpoolctl>=3.1.0 in /usr/local/lib/python3.11/dist-packages (from scikit-learn) (3.6.0)\n",
            "Requirement already satisfied: python-dateutil>=2.8.2 in /usr/local/lib/python3.11/dist-packages (from pandas) (2.8.2)\n",
            "Requirement already satisfied: pytz>=2020.1 in /usr/local/lib/python3.11/dist-packages (from pandas) (2025.1)\n",
            "Requirement already satisfied: tzdata>=2022.7 in /usr/local/lib/python3.11/dist-packages (from pandas) (2025.1)\n",
            "Requirement already satisfied: six>=1.5 in /usr/local/lib/python3.11/dist-packages (from python-dateutil>=2.8.2->pandas) (1.17.0)\n"
          ]
        }
      ]
    },
    {
      "cell_type": "code",
      "source": [
        "import pandas as pd\n",
        "from sklearn.feature_extraction.text import TfidfVectorizer\n",
        "from sklearn.metrics.pairwise import cosine_similarity\n",
        "\n",
        "data = {\n",
        "    'movie_id': ['Movie A', 'Movie B', 'Movie C', 'Movie D', 'Movie E'],\n",
        "    'description': [\n",
        "        'Action packed thriller with a lot of fight scenes.',\n",
        "        'A romantic comedy with funny characters and a happy ending.',\n",
        "        'A deep drama that explores family issues and struggles.',\n",
        "        'A suspenseful thriller with a plot twist in the end.',\n",
        "        'A lighthearted comedy about a group of friends.'\n",
        "    ]\n",
        "}\n",
        "\n",
        "df = pd.DataFrame(data)\n",
        "\n",
        "tfidf_vectorizer = TfidfVectorizer(stop_words='english')\n",
        "tfidf_matrix = tfidf_vectorizer.fit_transform(df['description'])\n",
        "\n",
        "cosine_sim = cosine_similarity(tfidf_matrix, tfidf_matrix)\n",
        "\n",
        "def get_recommendations(movie_title, cosine_sim=cosine_sim):\n",
        "\n",
        "    idx = df.index[df['movie_id'] == movie_title].tolist()[0]\n",
        "\n",
        "    sim_scores = list(enumerate(cosine_sim[idx]))\n",
        "\n",
        "    sim_scores = sorted(sim_scores, key=lambda x: x[1], reverse=True)\n",
        "\n",
        "    movie_indices = [i[0] for i in sim_scores[1:]]\n",
        "\n",
        "    recommended_movies = df[['movie_id', 'description']].iloc[movie_indices]\n",
        "    return recommended_movies\n",
        "\n",
        "movie = 'Movie A'\n",
        "recommended_movies = get_recommendations(movie)\n",
        "\n",
        "print(f\"Movies recommended based on '{movie}':\\n\")\n",
        "print(recommended_movies)\n"
      ],
      "metadata": {
        "colab": {
          "base_uri": "https://localhost:8080/"
        },
        "id": "uI62nikWyYXf",
        "outputId": "7f80c31e-0316-4c83-bded-57a8bba2d6ce"
      },
      "execution_count": 18,
      "outputs": [
        {
          "output_type": "stream",
          "name": "stdout",
          "text": [
            "Movies recommended based on 'Movie A':\n",
            "\n",
            "  movie_id                                        description\n",
            "3  Movie D  A suspenseful thriller with a plot twist in th...\n",
            "1  Movie B  A romantic comedy with funny characters and a ...\n",
            "2  Movie C  A deep drama that explores family issues and s...\n",
            "4  Movie E    A lighthearted comedy about a group of friends.\n"
          ]
        }
      ]
    }
  ]
}